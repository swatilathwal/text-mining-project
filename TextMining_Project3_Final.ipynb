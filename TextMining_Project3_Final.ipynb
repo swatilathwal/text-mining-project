{
 "cells": [
  {
   "cell_type": "code",
   "execution_count": 1,
   "metadata": {},
   "outputs": [
    {
     "name": "stderr",
     "output_type": "stream",
     "text": [
      "[nltk_data] Downloading package stopwords to\n",
      "[nltk_data]     C:\\Users\\rashi\\AppData\\Roaming\\nltk_data...\n",
      "[nltk_data]   Package stopwords is already up-to-date!\n"
     ]
    }
   ],
   "source": [
    "# Import all the libraries\n",
    "import re \n",
    "import nltk\n",
    "import numpy as np  \n",
    "import pandas as pd \n",
    "import contractions\n",
    "from bs4 import BeautifulSoup \n",
    "from keras import backend as K\n",
    "import matplotlib.pyplot as plt\n",
    "from nltk.corpus import stopwords \n",
    "from attention import AttentionLayer\n",
    "from tensorflow.keras.models import Model\n",
    "from keras.preprocessing.text import Tokenizer \n",
    "from sklearn.model_selection import train_test_split\n",
    "from tensorflow.keras.callbacks import EarlyStopping\n",
    "from keras.preprocessing.sequence import pad_sequences  \n",
    "from tensorflow.keras.layers import Input, LSTM, Embedding, Dense, TimeDistributed, Concatenate\n",
    "\n",
    "# Import stopwords\n",
    "nltk.download('stopwords')\n",
    "stop_words = set(stopwords.words('english')) "
   ]
  },
  {
   "cell_type": "code",
   "execution_count": 2,
   "metadata": {},
   "outputs": [
    {
     "data": {
      "text/html": [
       "<div>\n",
       "<style scoped>\n",
       "    .dataframe tbody tr th:only-of-type {\n",
       "        vertical-align: middle;\n",
       "    }\n",
       "\n",
       "    .dataframe tbody tr th {\n",
       "        vertical-align: top;\n",
       "    }\n",
       "\n",
       "    .dataframe thead th {\n",
       "        text-align: right;\n",
       "    }\n",
       "</style>\n",
       "<table border=\"1\" class=\"dataframe\">\n",
       "  <thead>\n",
       "    <tr style=\"text-align: right;\">\n",
       "      <th></th>\n",
       "      <th>Summary</th>\n",
       "      <th>Text</th>\n",
       "    </tr>\n",
       "  </thead>\n",
       "  <tbody>\n",
       "    <tr>\n",
       "      <th>0</th>\n",
       "      <td>Good Quality Dog Food</td>\n",
       "      <td>I have bought several of the Vitality canned d...</td>\n",
       "    </tr>\n",
       "    <tr>\n",
       "      <th>1</th>\n",
       "      <td>Not as Advertised</td>\n",
       "      <td>Product arrived labeled as Jumbo Salted Peanut...</td>\n",
       "    </tr>\n",
       "    <tr>\n",
       "      <th>2</th>\n",
       "      <td>\"Delight\" says it all</td>\n",
       "      <td>This is a confection that has been around a fe...</td>\n",
       "    </tr>\n",
       "    <tr>\n",
       "      <th>3</th>\n",
       "      <td>Cough Medicine</td>\n",
       "      <td>If you are looking for the secret ingredient i...</td>\n",
       "    </tr>\n",
       "    <tr>\n",
       "      <th>4</th>\n",
       "      <td>Great taffy</td>\n",
       "      <td>Great taffy at a great price.  There was a wid...</td>\n",
       "    </tr>\n",
       "  </tbody>\n",
       "</table>\n",
       "</div>"
      ],
      "text/plain": [
       "                 Summary                                               Text\n",
       "0  Good Quality Dog Food  I have bought several of the Vitality canned d...\n",
       "1      Not as Advertised  Product arrived labeled as Jumbo Salted Peanut...\n",
       "2  \"Delight\" says it all  This is a confection that has been around a fe...\n",
       "3         Cough Medicine  If you are looking for the secret ingredient i...\n",
       "4            Great taffy  Great taffy at a great price.  There was a wid..."
      ]
     },
     "execution_count": 2,
     "metadata": {},
     "output_type": "execute_result"
    }
   ],
   "source": [
    "# Read the data set\n",
    "data = pd.read_csv(\"C:/Users/rashi/Downloads/AFFR/Reviews.csv\", nrows=100000, usecols=['Summary','Text'])\n",
    "\n",
    "# Drop duplicates and NA values\n",
    "data.drop_duplicates(subset=['Text'], inplace=True)  \n",
    "data.dropna(axis=0, inplace=True)\n",
    "\n",
    "# Print the data\n",
    "data.head()"
   ]
  },
  {
   "cell_type": "code",
   "execution_count": 3,
   "metadata": {},
   "outputs": [],
   "source": [
    "# Data pre-processing\n",
    "def text_preprocessing(text):\n",
    "    cleanText = text.lower()                                                 #convert the text to lower case\n",
    "    cleanText = BeautifulSoup(cleanText, \"lxml\").text                        #extract plain text \n",
    "    cleanText = re.sub(r'\\([^)]*\\)', '', cleanText)                          #remove text between brackets\n",
    "    cleanText = re.sub('\"','', cleanText)                                    #remove quotes\n",
    "    cleanText = contractions.fix(cleanText)                                  #fix contractions\n",
    "    cleanText = re.sub(r\"'s\\b\",\"\",cleanText)                                 #remove 's from text\n",
    "    cleanText = re.sub(\"[^a-zA-Z]\", \" \", cleanText)                          #remove punctuations, special characters and digits\n",
    "    tokens = [w for w in cleanText.split() if not w in stop_words]           #remove stopwords\n",
    "    long_words=[]\n",
    "    for i in tokens:\n",
    "        if len(i)>1:                                                         #remove short words\n",
    "            long_words.append(i)   \n",
    "    return (\" \".join(long_words)).strip()"
   ]
  },
  {
   "cell_type": "code",
   "execution_count": 4,
   "metadata": {},
   "outputs": [
    {
     "name": "stderr",
     "output_type": "stream",
     "text": [
      "C:\\Users\\rashi\\Anaconda3\\envs\\deeplearning\\lib\\site-packages\\bs4\\__init__.py:332: MarkupResemblesLocatorWarning: \"cookies\" looks like a filename, not markup. You should probably open this file and pass the filehandle into Beautiful Soup.\n",
      "  warnings.warn(\n",
      "C:\\Users\\rashi\\Anaconda3\\envs\\deeplearning\\lib\\site-packages\\bs4\\__init__.py:332: MarkupResemblesLocatorWarning: \"...\" looks like a filename, not markup. You should probably open this file and pass the filehandle into Beautiful Soup.\n",
      "  warnings.warn(\n",
      "C:\\Users\\rashi\\Anaconda3\\envs\\deeplearning\\lib\\site-packages\\bs4\\__init__.py:417: MarkupResemblesLocatorWarning: \"http://www.amazon.com/gp/product/b007i7yygy/ref=cm_cr_rev_prod_title\" looks like a URL. Beautiful Soup is not an HTTP client. You should probably use an HTTP client like requests to get the document behind the URL, and feed that document to Beautiful Soup.\n",
      "  warnings.warn(\n"
     ]
    },
    {
     "data": {
      "text/html": [
       "<div>\n",
       "<style scoped>\n",
       "    .dataframe tbody tr th:only-of-type {\n",
       "        vertical-align: middle;\n",
       "    }\n",
       "\n",
       "    .dataframe tbody tr th {\n",
       "        vertical-align: top;\n",
       "    }\n",
       "\n",
       "    .dataframe thead th {\n",
       "        text-align: right;\n",
       "    }\n",
       "</style>\n",
       "<table border=\"1\" class=\"dataframe\">\n",
       "  <thead>\n",
       "    <tr style=\"text-align: right;\">\n",
       "      <th></th>\n",
       "      <th>Summary</th>\n",
       "      <th>Text</th>\n",
       "      <th>cleaned_text</th>\n",
       "      <th>cleaned_summary</th>\n",
       "    </tr>\n",
       "  </thead>\n",
       "  <tbody>\n",
       "    <tr>\n",
       "      <th>0</th>\n",
       "      <td>Good Quality Dog Food</td>\n",
       "      <td>I have bought several of the Vitality canned d...</td>\n",
       "      <td>bought several vitality canned dog food produc...</td>\n",
       "      <td>good quality dog food</td>\n",
       "    </tr>\n",
       "    <tr>\n",
       "      <th>1</th>\n",
       "      <td>Not as Advertised</td>\n",
       "      <td>Product arrived labeled as Jumbo Salted Peanut...</td>\n",
       "      <td>product arrived labeled jumbo salted peanuts p...</td>\n",
       "      <td>advertised</td>\n",
       "    </tr>\n",
       "    <tr>\n",
       "      <th>2</th>\n",
       "      <td>\"Delight\" says it all</td>\n",
       "      <td>This is a confection that has been around a fe...</td>\n",
       "      <td>confection around centuries light pillowy citr...</td>\n",
       "      <td>delight says</td>\n",
       "    </tr>\n",
       "    <tr>\n",
       "      <th>3</th>\n",
       "      <td>Cough Medicine</td>\n",
       "      <td>If you are looking for the secret ingredient i...</td>\n",
       "      <td>looking secret ingredient robitussin believe f...</td>\n",
       "      <td>cough medicine</td>\n",
       "    </tr>\n",
       "    <tr>\n",
       "      <th>4</th>\n",
       "      <td>Great taffy</td>\n",
       "      <td>Great taffy at a great price.  There was a wid...</td>\n",
       "      <td>great taffy great price wide assortment yummy ...</td>\n",
       "      <td>great taffy</td>\n",
       "    </tr>\n",
       "  </tbody>\n",
       "</table>\n",
       "</div>"
      ],
      "text/plain": [
       "                 Summary                                               Text  \\\n",
       "0  Good Quality Dog Food  I have bought several of the Vitality canned d...   \n",
       "1      Not as Advertised  Product arrived labeled as Jumbo Salted Peanut...   \n",
       "2  \"Delight\" says it all  This is a confection that has been around a fe...   \n",
       "3         Cough Medicine  If you are looking for the secret ingredient i...   \n",
       "4            Great taffy  Great taffy at a great price.  There was a wid...   \n",
       "\n",
       "                                        cleaned_text        cleaned_summary  \n",
       "0  bought several vitality canned dog food produc...  good quality dog food  \n",
       "1  product arrived labeled jumbo salted peanuts p...             advertised  \n",
       "2  confection around centuries light pillowy citr...           delight says  \n",
       "3  looking secret ingredient robitussin believe f...         cough medicine  \n",
       "4  great taffy great price wide assortment yummy ...            great taffy  "
      ]
     },
     "execution_count": 4,
     "metadata": {},
     "output_type": "execute_result"
    }
   ],
   "source": [
    "# Clean the review text\n",
    "cleaned_text = []\n",
    "for rowData in data['Text']:\n",
    "    cleaned_text.append(text_preprocessing(rowData))\n",
    "\n",
    "# Clean the review summary\n",
    "cleaned_summary = []\n",
    "for rowData in data['Summary']:\n",
    "    cleaned_summary.append(text_preprocessing(rowData))\n",
    "\n",
    "# Update the data set\n",
    "data['cleaned_text'] = cleaned_text\n",
    "data['cleaned_summary'] = cleaned_summary\n",
    "\n",
    "# Drop empty rows\n",
    "data.replace('', np.nan, inplace=True)\n",
    "data.dropna(axis=0,inplace=True)\n",
    "\n",
    "# Print the data\n",
    "data.head()"
   ]
  },
  {
   "cell_type": "code",
   "execution_count": 5,
   "metadata": {},
   "outputs": [
    {
     "data": {
      "image/png": "[encoded data removed]",
      "text/plain": [
       "<Figure size 432x288 with 2 Axes>"
      ]
     },
     "metadata": {
      "needs_background": "light"
     },
     "output_type": "display_data"
    }
   ],
   "source": [
    "# Exploratory Data Analysis\n",
    "cleaned_text_wordcount = []\n",
    "cleaned_summary_wordcount = []\n",
    "\n",
    "# Populate the lists with sentence lengths\n",
    "for rowData in data['cleaned_text']:\n",
    "      cleaned_text_wordcount.append(len(rowData.split()))\n",
    "\n",
    "for rowData in data['cleaned_summary']:\n",
    "      cleaned_summary_wordcount.append(len(rowData.split()))\n",
    "\n",
    "# Plot histogram\n",
    "wordcount_df = pd.DataFrame({'text':cleaned_text_wordcount, 'summary':cleaned_summary_wordcount})\n",
    "wordcount_df.hist(bins = 30)\n",
    "plt.show()"
   ]
  },
  {
   "cell_type": "code",
   "execution_count": 6,
   "metadata": {},
   "outputs": [],
   "source": [
    "# Fix maximum review text and summary lengths\n",
    "max_len_text = 40 \n",
    "max_len_summary = 5\n",
    "\n",
    "# Filter the text and summary based on the above maximum lengths\n",
    "cleaned_text =np.array(data['cleaned_text'])\n",
    "cleaned_summary=np.array(data['cleaned_summary'])\n",
    "\n",
    "short_text=[]\n",
    "short_summary=[]\n",
    "\n",
    "for i in range(len(cleaned_text)):\n",
    "    if(len(cleaned_summary[i].split())<=max_len_summary and len(cleaned_text[i].split())<=max_len_text):\n",
    "        short_text.append(cleaned_text[i])\n",
    "        short_summary.append(cleaned_summary[i])\n",
    "\n",
    "# Store the filtered data in a dataframe\n",
    "df=pd.DataFrame({'text':short_text,'summary':short_summary})"
   ]
  },
  {
   "cell_type": "code",
   "execution_count": 7,
   "metadata": {},
   "outputs": [
    {
     "data": {
      "image/png": "[encoded data removed]",
      "text/plain": [
       "<Figure size 432x288 with 2 Axes>"
      ]
     },
     "metadata": {
      "needs_background": "light"
     },
     "output_type": "display_data"
    }
   ],
   "source": [
    "# Exploratory Data Analysis of filtered data\n",
    "cleaned_text_wordcount = []\n",
    "cleaned_summary_wordcount = []\n",
    "\n",
    "# Populate the lists with sentence lengths\n",
    "for rowData in df['text']:\n",
    "      cleaned_text_wordcount.append(len(rowData.split()))\n",
    "\n",
    "for rowData in df['summary']:\n",
    "      cleaned_summary_wordcount.append(len(rowData.split()))\n",
    "\n",
    "# Plot histogram\n",
    "filtered_wordcount_df = pd.DataFrame({'text':cleaned_text_wordcount, 'summary':cleaned_summary_wordcount})\n",
    "filtered_wordcount_df.hist(bins = 30)\n",
    "plt.show()"
   ]
  },
  {
   "cell_type": "code",
   "execution_count": 8,
   "metadata": {},
   "outputs": [],
   "source": [
    "# Delete unnecessary dataframes\n",
    "del data, wordcount_df, filtered_wordcount_df"
   ]
  },
  {
   "cell_type": "code",
   "execution_count": 9,
   "metadata": {},
   "outputs": [
    {
     "data": {
      "text/html": [
       "<div>\n",
       "<style scoped>\n",
       "    .dataframe tbody tr th:only-of-type {\n",
       "        vertical-align: middle;\n",
       "    }\n",
       "\n",
       "    .dataframe tbody tr th {\n",
       "        vertical-align: top;\n",
       "    }\n",
       "\n",
       "    .dataframe thead th {\n",
       "        text-align: right;\n",
       "    }\n",
       "</style>\n",
       "<table border=\"1\" class=\"dataframe\">\n",
       "  <thead>\n",
       "    <tr style=\"text-align: right;\">\n",
       "      <th></th>\n",
       "      <th>text</th>\n",
       "      <th>summary</th>\n",
       "    </tr>\n",
       "  </thead>\n",
       "  <tbody>\n",
       "    <tr>\n",
       "      <th>0</th>\n",
       "      <td>bought several vitality canned dog food produc...</td>\n",
       "      <td>_START_ good quality dog food _END_</td>\n",
       "    </tr>\n",
       "    <tr>\n",
       "      <th>1</th>\n",
       "      <td>product arrived labeled jumbo salted peanuts p...</td>\n",
       "      <td>_START_ advertised _END_</td>\n",
       "    </tr>\n",
       "    <tr>\n",
       "      <th>2</th>\n",
       "      <td>confection around centuries light pillowy citr...</td>\n",
       "      <td>_START_ delight says _END_</td>\n",
       "    </tr>\n",
       "    <tr>\n",
       "      <th>3</th>\n",
       "      <td>looking secret ingredient robitussin believe f...</td>\n",
       "      <td>_START_ cough medicine _END_</td>\n",
       "    </tr>\n",
       "    <tr>\n",
       "      <th>4</th>\n",
       "      <td>great taffy great price wide assortment yummy ...</td>\n",
       "      <td>_START_ great taffy _END_</td>\n",
       "    </tr>\n",
       "  </tbody>\n",
       "</table>\n",
       "</div>"
      ],
      "text/plain": [
       "                                                text  \\\n",
       "0  bought several vitality canned dog food produc...   \n",
       "1  product arrived labeled jumbo salted peanuts p...   \n",
       "2  confection around centuries light pillowy citr...   \n",
       "3  looking secret ingredient robitussin believe f...   \n",
       "4  great taffy great price wide assortment yummy ...   \n",
       "\n",
       "                               summary  \n",
       "0  _START_ good quality dog food _END_  \n",
       "1             _START_ advertised _END_  \n",
       "2           _START_ delight says _END_  \n",
       "3         _START_ cough medicine _END_  \n",
       "4            _START_ great taffy _END_  "
      ]
     },
     "execution_count": 9,
     "metadata": {},
     "output_type": "execute_result"
    }
   ],
   "source": [
    "# Add start and end tokens to the summary\n",
    "df['summary'] = df['summary'].apply(lambda x : '_START_ '+ x + ' _END_')\n",
    "\n",
    "# Print the data\n",
    "df.head()"
   ]
  },
  {
   "cell_type": "code",
   "execution_count": 10,
   "metadata": {},
   "outputs": [
    {
     "name": "stdout",
     "output_type": "stream",
     "text": [
      "<class 'pandas.core.frame.DataFrame'>\n",
      "RangeIndex: 57861 entries, 0 to 57860\n",
      "Data columns (total 2 columns):\n",
      " #   Column   Non-Null Count  Dtype \n",
      "---  ------   --------------  ----- \n",
      " 0   text     57861 non-null  object\n",
      " 1   summary  57861 non-null  object\n",
      "dtypes: object(2)\n",
      "memory usage: 904.2+ KB\n"
     ]
    }
   ],
   "source": [
    "# Print df info\n",
    "df.info()"
   ]
  },
  {
   "cell_type": "code",
   "execution_count": 11,
   "metadata": {},
   "outputs": [],
   "source": [
    "# Split the training and testing data in the ratio 80:20\n",
    "x_train,x_test,y_train,y_test=train_test_split(df['text'],df['summary'],test_size=0.2,random_state=0,shuffle=True) "
   ]
  },
  {
   "cell_type": "code",
   "execution_count": 12,
   "metadata": {},
   "outputs": [
    {
     "name": "stdout",
     "output_type": "stream",
     "text": [
      "28267\n"
     ]
    }
   ],
   "source": [
    "# Integer encode training reviews with padding\n",
    "x_tokenizer = Tokenizer()\n",
    "x_tokenizer.fit_on_texts(list(x_train))\n",
    "x_train = x_tokenizer.texts_to_sequences(x_train)\n",
    "x_train = pad_sequences(x_train,  maxlen=max_len_text, padding='post')\n",
    "\n",
    "# Print training reviews vocabulary size\n",
    "x_vocab_size = len(x_tokenizer.word_index) + 1\n",
    "print(x_vocab_size)\n",
    "\n",
    "# Integer encode testing reviews with padding\n",
    "x_test   =   x_tokenizer.texts_to_sequences(x_test)\n",
    "x_test   =   pad_sequences(x_test, maxlen=max_len_text, padding='post')"
   ]
  },
  {
   "cell_type": "code",
   "execution_count": 13,
   "metadata": {},
   "outputs": [
    {
     "name": "stdout",
     "output_type": "stream",
     "text": [
      "9456\n"
     ]
    }
   ],
   "source": [
    "# Integer encode training summary with padding\n",
    "y_tokenizer = Tokenizer()\n",
    "y_tokenizer.fit_on_texts(list(y_train))\n",
    "y_train = y_tokenizer.texts_to_sequences(y_train)\n",
    "y_train = pad_sequences(y_train, maxlen=max_len_summary, padding='post')\n",
    "\n",
    "# Print training summary vocabulary size\n",
    "y_vocab_size = len(y_tokenizer.word_index) + 1\n",
    "print(y_vocab_size)\n",
    "\n",
    "# Integer encode training summary with padding\n",
    "y_test = y_tokenizer.texts_to_sequences(y_test) \n",
    "y_test = pad_sequences(y_test, maxlen=max_len_summary, padding='post')"
   ]
  },
  {
   "cell_type": "code",
   "execution_count": 14,
   "metadata": {
    "scrolled": true
   },
   "outputs": [
    {
     "name": "stdout",
     "output_type": "stream",
     "text": [
      "Model: \"functional_1\"\n",
      "__________________________________________________________________________________________________\n",
      "Layer (type)                    Output Shape         Param #     Connected to                     \n",
      "==================================================================================================\n",
      "input_1 (InputLayer)            [(None, 40)]         0                                            \n",
      "__________________________________________________________________________________________________\n",
      "embedding (Embedding)           (None, 40, 300)      8480100     input_1[0][0]                    \n",
      "__________________________________________________________________________________________________\n",
      "lstm (LSTM)                     [(None, 40, 300), (N 721200      embedding[0][0]                  \n",
      "__________________________________________________________________________________________________\n",
      "lstm_1 (LSTM)                   [(None, 40, 300), (N 721200      lstm[0][0]                       \n",
      "__________________________________________________________________________________________________\n",
      "input_2 (InputLayer)            [(None, None)]       0                                            \n",
      "__________________________________________________________________________________________________\n",
      "lstm_2 (LSTM)                   [(None, 40, 300), (N 721200      lstm_1[0][0]                     \n",
      "__________________________________________________________________________________________________\n",
      "embedding_1 (Embedding)         (None, None, 300)    2836800     input_2[0][0]                    \n",
      "__________________________________________________________________________________________________\n",
      "lstm_3 (LSTM)                   [(None, 40, 300), (N 721200      lstm_2[0][0]                     \n",
      "__________________________________________________________________________________________________\n",
      "lstm_4 (LSTM)                   [(None, None, 300),  721200      embedding_1[0][0]                \n",
      "                                                                 lstm_3[0][1]                     \n",
      "                                                                 lstm_3[0][2]                     \n",
      "__________________________________________________________________________________________________\n",
      "attention_layer (AttentionLayer ((None, None, 300),  180300      lstm_3[0][0]                     \n",
      "                                                                 lstm_4[0][0]                     \n",
      "__________________________________________________________________________________________________\n",
      "concat_layer (Concatenate)      (None, None, 600)    0           lstm_4[0][0]                     \n",
      "                                                                 attention_layer[0][0]            \n",
      "__________________________________________________________________________________________________\n",
      "time_distributed (TimeDistribut (None, None, 9456)   5683056     concat_layer[0][0]               \n",
      "==================================================================================================\n",
      "Total params: 20,786,256\n",
      "Trainable params: 20,786,256\n",
      "Non-trainable params: 0\n",
      "__________________________________________________________________________________________________\n"
     ]
    }
   ],
   "source": [
    "K.clear_session()\n",
    "latent_dim = 300 \n",
    "\n",
    "# Encoder \n",
    "encoder_inputs = Input(shape=(max_len_text,)) \n",
    "enc_emb = Embedding(x_vocab_size, latent_dim,trainable=True)(encoder_inputs) \n",
    "\n",
    "#LSTM 1 \n",
    "encoder_lstm1 = LSTM(latent_dim, return_sequences=True, return_state=True) \n",
    "encoder_output1, state_h1, state_c1 = encoder_lstm1(enc_emb) \n",
    "\n",
    "#LSTM 2 \n",
    "encoder_lstm2 = LSTM(latent_dim, return_sequences=True, return_state=True) \n",
    "encoder_output2, state_h2, state_c2 = encoder_lstm2(encoder_output1) \n",
    "\n",
    "#LSTM 3 \n",
    "encoder_lstm3 = LSTM(latent_dim, return_state=True, return_sequences=True) \n",
    "encoder_output3, state_h3, state_c3 = encoder_lstm3(encoder_output2)\n",
    "\n",
    "#LSTM 4 \n",
    "encoder_lstm4 = LSTM(latent_dim, return_state=True, return_sequences=True) \n",
    "encoder_outputs, state_h, state_c = encoder_lstm4(encoder_output3) \n",
    "\n",
    "# Set up the decoder \n",
    "decoder_inputs = Input(shape=(None,)) \n",
    "dec_emb_layer = Embedding(y_vocab_size, latent_dim, trainable=True) \n",
    "dec_emb = dec_emb_layer(decoder_inputs) \n",
    "\n",
    "#LSTM using encoder_states as initial state\n",
    "decoder_lstm = LSTM(latent_dim, return_sequences=True, return_state=True) \n",
    "decoder_outputs, decoder_fwd_state, decoder_back_state = decoder_lstm(dec_emb, initial_state=[state_h, state_c]) \n",
    "\n",
    "#Attention Layer\n",
    "attn_layer = AttentionLayer(name='attention_layer') \n",
    "attn_out, attn_states = attn_layer([encoder_outputs, decoder_outputs]) \n",
    "\n",
    "#Concat attention output and decoder LSTM output \n",
    "decoder_concat_input = Concatenate(axis=-1, name='concat_layer')([decoder_outputs, attn_out])\n",
    "\n",
    "#Dense layer\n",
    "decoder_dense = TimeDistributed(Dense(y_vocab_size, activation='softmax')) \n",
    "decoder_outputs = decoder_dense(decoder_concat_input) \n",
    "\n",
    "# Define the model\n",
    "model = Model([encoder_inputs, decoder_inputs], decoder_outputs) \n",
    "model.summary()\n"
   ]
  },
  {
   "cell_type": "code",
   "execution_count": 15,
   "metadata": {
    "scrolled": true
   },
   "outputs": [
    {
     "name": "stdout",
     "output_type": "stream",
     "text": [
      "Epoch 1/30\n",
      "46/46 [==============================] - 401s 9s/step - loss: 5.3363 - val_loss: 4.0613\n",
      "Epoch 2/30\n",
      "46/46 [==============================] - 397s 9s/step - loss: 4.1055 - val_loss: 3.7450\n",
      "Epoch 3/30\n",
      "46/46 [==============================] - 397s 9s/step - loss: 3.9206 - val_loss: 3.6606\n",
      "Epoch 4/30\n",
      "46/46 [==============================] - 397s 9s/step - loss: 3.8049 - val_loss: 3.6150\n",
      "Epoch 5/30\n",
      "46/46 [==============================] - 396s 9s/step - loss: 3.7256 - val_loss: 3.5785\n",
      "Epoch 6/30\n",
      "46/46 [==============================] - 397s 9s/step - loss: 3.6671 - val_loss: 3.5573\n",
      "Epoch 7/30\n",
      "46/46 [==============================] - 395s 9s/step - loss: 3.6115 - val_loss: 3.5289\n",
      "Epoch 8/30\n",
      "46/46 [==============================] - 396s 9s/step - loss: 3.5536 - val_loss: 3.5144\n",
      "Epoch 9/30\n",
      "46/46 [==============================] - 401s 9s/step - loss: 3.4965 - val_loss: 3.4817\n",
      "Epoch 10/30\n",
      "46/46 [==============================] - 396s 9s/step - loss: 3.4259 - val_loss: 3.4356\n",
      "Epoch 11/30\n",
      "46/46 [==============================] - 397s 9s/step - loss: 3.3488 - val_loss: 3.4092\n",
      "Epoch 12/30\n",
      "46/46 [==============================] - 396s 9s/step - loss: 3.2606 - val_loss: 3.3682\n",
      "Epoch 13/30\n",
      "46/46 [==============================] - 397s 9s/step - loss: 3.1686 - val_loss: 3.3346\n",
      "Epoch 14/30\n",
      "46/46 [==============================] - 397s 9s/step - loss: 3.0851 - val_loss: 3.3270\n",
      "Epoch 15/30\n",
      "46/46 [==============================] - 397s 9s/step - loss: 3.0072 - val_loss: 3.3221\n",
      "Epoch 16/30\n",
      "46/46 [==============================] - 397s 9s/step - loss: 2.9260 - val_loss: 3.3298\n",
      "Epoch 00016: early stopping\n"
     ]
    }
   ],
   "source": [
    "# Compile and train the model\n",
    "model.compile(optimizer='adam', loss='sparse_categorical_crossentropy')\n",
    "es = EarlyStopping(monitor='val_loss', mode='min', verbose=1)\n",
    "history=model.fit([x_train, y_train[:,:-1]], y_train.reshape(y_train.shape[0], y_train.shape[1], 1)[:,1:], epochs=30, callbacks=[es], batch_size=1024, validation_data=([x_test, y_test[:,:-1]], y_test.reshape(y_test.shape[0], y_test.shape[1], 1)[:,1:]))"
   ]
  },
  {
   "cell_type": "code",
   "execution_count": 16,
   "metadata": {},
   "outputs": [
    {
     "data": {
      "image/png": "[encoded data removed]",
      "text/plain": [
       "<Figure size 432x288 with 1 Axes>"
      ]
     },
     "metadata": {
      "needs_background": "light"
     },
     "output_type": "display_data"
    }
   ],
   "source": [
    "# Plot the test and train loss\n",
    "plt.plot(history.history['loss'], label='train') \n",
    "plt.plot(history.history['val_loss'], label='test') \n",
    "plt.legend() \n",
    "plt.show()"
   ]
  },
  {
   "cell_type": "code",
   "execution_count": 17,
   "metadata": {},
   "outputs": [],
   "source": [
    "# Prepare dictionary to convert back to text\n",
    "reverse_target_word_index=y_tokenizer.index_word \n",
    "reverse_source_word_index=x_tokenizer.index_word \n",
    "target_word_index=y_tokenizer.word_index"
   ]
  },
  {
   "cell_type": "code",
   "execution_count": 18,
   "metadata": {},
   "outputs": [],
   "source": [
    "# Final encoder model\n",
    "encoder_model = Model(inputs=encoder_inputs,outputs=[encoder_outputs, state_h, state_c])\n",
    "\n",
    "# Decoder inference\n",
    "decoder_state_input_h = Input(shape=(latent_dim,))\n",
    "decoder_state_input_c = Input(shape=(latent_dim,))\n",
    "decoder_hidden_state_input = Input(shape=(max_len_text,latent_dim))\n",
    "\n",
    "dec_emb2= dec_emb_layer(decoder_inputs)\n",
    "decoder_outputs2, state_h2, state_c2 = decoder_lstm(dec_emb2, initial_state=[decoder_state_input_h, decoder_state_input_c])\n",
    "\n",
    "# Attention inference\n",
    "attn_out_inf, attn_states_inf = attn_layer([decoder_hidden_state_input, decoder_outputs2])\n",
    "decoder_inf_concat = Concatenate(axis=-1, name='concat')([decoder_outputs2, attn_out_inf])\n",
    "\n",
    "decoder_outputs2 = decoder_dense(decoder_inf_concat)\n",
    "\n",
    "# Final decoder model\n",
    "decoder_model = Model(\n",
    "[decoder_inputs] + [decoder_hidden_state_input, decoder_state_input_h, decoder_state_input_c],\n",
    "[decoder_outputs2] + [state_h2, state_c2])"
   ]
  },
  {
   "cell_type": "code",
   "execution_count": 19,
   "metadata": {},
   "outputs": [],
   "source": [
    "# Generate a summary for the input sequence \n",
    "def decode_sequence(input_seq):\n",
    "    e_out, e_h, e_c = encoder_model.predict(input_seq)\n",
    "    \n",
    "    target_seq = np.zeros((1,1))\n",
    "    target_seq[0, 0] = target_word_index['start']\n",
    "\n",
    "    stop_condition = False\n",
    "    decoded_sentence = ''\n",
    "    while not stop_condition:\n",
    "        output_tokens, h, c = decoder_model.predict([target_seq] + [e_out, e_h, e_c])\n",
    "        sampled_token_index = np.argmax(output_tokens[0, -1, :])\n",
    "        sampled_token = reverse_target_word_index[sampled_token_index]\n",
    "\n",
    "        if(sampled_token!='end'):\n",
    "            decoded_sentence += ' '+sampled_token\n",
    "\n",
    "        if (sampled_token == 'end' or len(decoded_sentence.split()) >= (max_len_summary-1)):\n",
    "            stop_condition = True\n",
    "\n",
    "        target_seq = np.zeros((1,1))\n",
    "        target_seq[0, 0] = sampled_token_index\n",
    "        e_h, e_c = h, c\n",
    "\n",
    "    return decoded_sentence"
   ]
  },
  {
   "cell_type": "code",
   "execution_count": 20,
   "metadata": {},
   "outputs": [],
   "source": [
    "def seq2summary(input_seq):\n",
    "    newString=''\n",
    "    for i in input_seq:\n",
    "      if((i!=0 and i!=target_word_index['start']) and i!=target_word_index['end']):\n",
    "        newString=newString+reverse_target_word_index[i]+' '\n",
    "    return newString\n",
    "\n",
    "def seq2text(input_seq):\n",
    "    newString=''\n",
    "    for i in input_seq:\n",
    "      if(i!=0):\n",
    "        newString=newString+reverse_source_word_index[i]+' '\n",
    "    return newString"
   ]
  },
  {
   "cell_type": "code",
   "execution_count": 21,
   "metadata": {},
   "outputs": [
    {
     "name": "stdout",
     "output_type": "stream",
     "text": [
      "Review: received shipment house blend coffee late morning within short time brewed pot opened oz package aroma dry coffee rich cup brewed coffee tasted bold rich would highly recommend product \n",
      "Original summary: excellent tasting coffee \n",
      "Predicted summary:  great coffee\n",
      "\n",
      "\n",
      "Review: product good gave star poor packaging broken cookies \n",
      "Original summary: poor packaging \n",
      "Predicted summary:  great gift\n",
      "\n",
      "\n",
      "Review: discovered product couple years ago really liked taste coffee tea fruit oatmeal lot less expensive packets switched large oz container price good use sugar helps sweet increased blood sugar yeah \n",
      "Original summary: best taste ever \n",
      "Predicted summary:  great tea\n",
      "\n",
      "\n",
      "Review: waste money machine waste money got gift makers ripoff artists would made easy put coffee like keurig product lot marketing hype even remotely worth money \n",
      "Original summary: waste money \n",
      "Predicted summary:  disappointed\n",
      "\n",
      "\n",
      "Review: stash teas tasty flavours rich full bodied enjoy cup alone friends remember live present moment \n",
      "Original summary: full taste \n",
      "Predicted summary:  great tea\n",
      "\n",
      "\n",
      "Review: wonderful item fits nicely counter take much space high either like models drink alot coffee tea etc filled bit love would recommend anyone interested fun item sit next kuerig machine \n",
      "Original summary: right size \n",
      "Predicted summary:  works\n",
      "\n",
      "\n",
      "Review: could pleased purchase vanilla beans piece find store work cents piece fresher better quality ones also come vacuum sealed zip lock bag included storage opening good job \n",
      "Original summary: even better expected \n",
      "Predicted summary:  great flavor\n",
      "\n",
      "\n",
      "Review: son get enough fruit purees think higher standard praise product \n",
      "Original summary: good deal good food \n",
      "Predicted summary:  good\n",
      "\n",
      "\n",
      "Review: wonderful tasting syrup great pancakes well ham well worth money \n",
      "Original summary: maple syrup \n",
      "Predicted summary:  great product\n",
      "\n",
      "\n",
      "Review: great taste excellent mixing chocolate protein shakeology etc reese cup style shake definitely buy \n",
      "Original summary: great shakes \n",
      "Predicted summary:  great\n",
      "\n",
      "\n",
      "Review: tasty nearly good original wild flavor also quite stale got \n",
      "Original summary: good wild flavor \n",
      "Predicted summary:  great\n",
      "\n",
      "\n",
      "Review: best coffee ever made keurig brewers flavor full bodied bitterness \n",
      "Original summary: best \n",
      "Predicted summary:  great coffee\n",
      "\n",
      "\n",
      "Review: drink super energy almost frightening several members family tasted consensus might indeed give boost taste even compared grapefruit juice definitely good \n",
      "Original summary: best \n",
      "Predicted summary:  great\n",
      "\n",
      "\n",
      "Review: great stuff wife loves price bit high free shipping still good deal \n",
      "Original summary: top notch product \n",
      "Predicted summary:  great product\n",
      "\n",
      "\n",
      "Review: one best deals seen rose preserves great price quality quantity receive purchase \n",
      "Original summary: rose petal preserves \n",
      "Predicted summary:  great product\n",
      "\n",
      "\n",
      "Review: weaver got right one lot body lots depth deep rich flavor earthy rich flavor yet smooth particularly appreciated caramel finish truly fine cup coffee one best \n",
      "Original summary: got right \n",
      "Predicted summary:  great\n",
      "\n",
      "\n",
      "Review: good buy dog bones wonderful bones may cost crazy cheap dinner feed entire family teenage boys young lady parents much ill buy another kind thank \n",
      "Original summary: bucks cow kidding \n",
      "Predicted summary:  dog loves\n",
      "\n",
      "\n",
      "Review: arrived promptly much larger healthier expected hopefully keep way \n",
      "Original summary: great \n",
      "Predicted summary:  great product\n",
      "\n",
      "\n",
      "Review: even dog within min choking one wrestle pull throat throwing food could get bad experience \n",
      "Original summary: large dogs \n",
      "Predicted summary:  great product\n",
      "\n",
      "\n",
      "Review: hi everyone love annie beef stroganoff organic skillet meal quick easy husband kids love love creamy texture sauce works well organic milk rice milk add pound organic beef costco whole foods local grocer good go ready minutes start finish \n",
      "Original summary: \n",
      "Predicted summary:  great product\n",
      "\n",
      "\n"
     ]
    }
   ],
   "source": [
    "for i in range(20):\n",
    "  print(\"Review:\",seq2text(x_test[i]))\n",
    "  print(\"Original summary:\",seq2summary(y_test[i]))\n",
    "  print(\"Predicted summary:\",decode_sequence(x_test[i].reshape(1,max_len_text)))\n",
    "  print(\"\\n\")"
   ]
  },
  {
   "cell_type": "code",
   "execution_count": null,
   "metadata": {},
   "outputs": [],
   "source": []
  },
  {
   "cell_type": "code",
   "execution_count": null,
   "metadata": {},
   "outputs": [],
   "source": []
  },
  {
   "cell_type": "code",
   "execution_count": null,
   "metadata": {},
   "outputs": [],
   "source": []
  },
  {
   "cell_type": "code",
   "execution_count": null,
   "metadata": {},
   "outputs": [],
   "source": []
  },
  {
   "cell_type": "code",
   "execution_count": null,
   "metadata": {},
   "outputs": [],
   "source": []
  }
 ],
 "metadata": {
  "kernelspec": {
   "display_name": "Python 3",
   "language": "python",
   "name": "python3"
  },
  "language_info": {
   "codemirror_mode": {
    "name": "ipython",
    "version": 3
   },
   "file_extension": ".py",
   "mimetype": "text/x-python",
   "name": "python",
   "nbconvert_exporter": "python",
   "pygments_lexer": "ipython3",
   "version": "3.8.5"
  }
 },
 "nbformat": 4,
 "nbformat_minor": 4
}
